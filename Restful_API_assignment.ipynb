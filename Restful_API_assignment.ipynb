{
  "cells": [
    {
      "cell_type": "markdown",
      "metadata": {
        "id": "pVF8c8pET4sJ"
      },
      "source": [
        "# THEORY QUESTION\n"
      ]
    },
    {
      "cell_type": "markdown",
      "metadata": {
        "id": "p5C_c8bJUEto"
      },
      "source": []
    },
    {
      "cell_type": "markdown",
      "metadata": {
        "id": "SA8Fo77wUExG"
      },
      "source": [
        "Qn 1- What is a RESTful API?\n",
        "\n",
        "Ans- A RESTful API (Representational State Transfer API) is a web service that follows REST principles to allow communication between client and server applications over the internet.\n"
      ]
    },
    {
      "cell_type": "markdown",
      "metadata": {
        "id": "GgV88ERqVdz6"
      },
      "source": [
        "Qn 2- Explain the concept of API specification.\n",
        "\n",
        "Ans- An API specification is a detailed document or standard that defines how an API should function, including its endpoints, request/response formats, authentication methods, and error handling.\n",
        "\n",
        "It acts as a blueprint for developers to understand how to interact with an API without needing to see its internal code.\n"
      ]
    },
    {
      "cell_type": "markdown",
      "metadata": {
        "id": "fuJaqpWdYQLD"
      },
      "source": [
        "Qn 3- What is Flask, and why is it popular for building APIs?\n",
        "\n",
        "Ans- Flask is widely used for API development because:\n",
        "\n",
        " Lightweight & Minimalist → No unnecessary dependencies, making it fast and easy to set up.\n",
        "\n",
        " Simple & Readable → Clean and beginner-friendly syntax for quick development.\n",
        "\n",
        " Extensible → Supports additional libraries like Flask-RESTful, Flask-SQLAlchemy, etc.\n",
        "\n",
        " Built-in Development Server → Allows easy local testing.\n",
        "\n",
        " Flexible Routing → Supports dynamic URL paths and query parameters.\n",
        "\n",
        " Supports RESTful APIs → Can handle HTTP methods (GET, POST, PUT, DELETE).\n",
        "\n"
      ]
    },
    {
      "cell_type": "markdown",
      "metadata": {
        "id": "-VMAfzffZ19v"
      },
      "source": [
        "Qn 4- What is routing in Flask?\n",
        "\n",
        "Ans- In Flask (a lightweight web framework for Python), routing refers to the process of defining URL patterns that map to specific functions in your application. When a user accesses a URL, Flask determines which function (also called a view function) should handle the request.\n",
        "\n"
      ]
    },
    {
      "cell_type": "markdown",
      "metadata": {
        "id": "KLWKWifua2G4"
      },
      "source": [
        "Qn 5- How do you create a simple Flask application?\n",
        "\n",
        "Ans- A Flask application follows a simple structure where we set up a Python script, import Flask, define routes, and run the server.\n",
        "\n",
        "\n",
        "\n"
      ]
    },
    {
      "cell_type": "markdown",
      "metadata": {
        "id": "iKfOLjqyXkMU"
      },
      "source": [
        "Qn 6- What are HTTP methods used in RESTful APIs?\n",
        "\n",
        "Ans- In RESTful APIs, HTTP methods define the type of operation performed on a resource. The most commonly used methods are -\n",
        "\n",
        "1. GET\n",
        "2. POST\n",
        "3. PUT\n",
        "4. PATCH\n",
        "5. DELETE"
      ]
    },
    {
      "cell_type": "markdown",
      "metadata": {
        "id": "KJuNpXzLaShi"
      },
      "source": [
        "Qn 7- What is the purpose of the @app.route() decorator in Flask?\n",
        "\n",
        "Ans- The @app.route() decorator in Flask is used to define URL routes in a web application. It maps a specific URL path to a Python function, allowing users to access different pages or API endpoints.\n",
        "\n"
      ]
    },
    {
      "cell_type": "markdown",
      "metadata": {
        "id": "u9cBtGxRbcqa"
      },
      "source": [
        "Qn 8- What is the difference between GET and POST HTTP methods?\n",
        "\n",
        "Ans-\n",
        "\n",
        " GET Method :-\n",
        "\n",
        "Purpose: Used to retrieve data from the server.\n",
        "\n",
        "Request Data: Sent in the URL as query parameters.\n",
        "\n",
        "Security: Less secure since parameters are visible in the URL.\n",
        "\n",
        "Caching: Can be cached by browsers and servers.\n",
        "\n",
        "Idempotency: Idempotent (repeated requests return the same result).\n",
        "\n",
        "\n",
        " POST Method ;-\n",
        "\n",
        "Purpose: Used to send data to the server for processing (e.g., create a new resource).\n",
        "\n",
        "Request Data: Sent in the request body (not visible in the URL).\n",
        "\n",
        "Security: More secure than GET (data is not logged in URLs).\n",
        "\n",
        "Caching: Not cached by default.\n",
        "\n",
        "Idempotency: Not idempotent (multiple requests create multiple resources).\n",
        "\n",
        "\n"
      ]
    },
    {
      "cell_type": "markdown",
      "metadata": {
        "id": "0LSoa9MJfK7l"
      },
      "source": [
        "Qn 9- How do you handle errors in Flask APIs?\n",
        "\n",
        "Ans- In Flask, handling errors properly is important to ensure a smooth user experience and meaningful responses when something goes wrong. Flask provides multiple ways to handle errors, including custom error handlers and built-in exceptions.\n"
      ]
    },
    {
      "cell_type": "markdown",
      "metadata": {
        "id": "WqIH-Qc2jbj_"
      },
      "source": [
        "Qn 10- How do you connect Flask to a SQL database.\n",
        "\n",
        "Ans-\n",
        "\n",
        "Before connecting to a database, install SQLAlchemy and Flask-SQLAlchemy using pip\n",
        "\n",
        "Flask needs to be configured with a database URI before connecting.\n",
        "\n",
        "You can change the SQLALCHEMY_DATABASE_URI to connect to different databases.\n",
        "\n",
        "Once connected, you can perform CRUD operations.\n",
        "\n",
        "For handling schema changes without data loss, use Flask-Migrate.\n",
        "\n"
      ]
    },
    {
      "cell_type": "markdown",
      "metadata": {
        "id": "bzoNdfhFlgpp"
      },
      "source": [
        "Qn 11- What is the role of Flask-SQLAlchemy?\n",
        "\n",
        "Flask-SQLAlchemy is an ORM (Object Relational Mapper) extension for Flask that simplifies interaction with SQL databases. It provides an easy way to define database models, execute queries, and manage database connections.\n",
        "\n"
      ]
    },
    {
      "cell_type": "markdown",
      "metadata": {
        "id": "ZOv88i9amLCe"
      },
      "source": [
        "Qn 12- What are Flask blueprints, and how are they useful?\n",
        "\n",
        "Flask Blueprints are a way to organize and modularize large Flask applications by breaking them into smaller, reusable components. Instead of defining all routes in a single file, Blueprints allow you to define separate modules for different parts of your app.\n",
        "\n",
        "Feature\tBenefit -\n",
        "\n",
        "Modularity-\tKeeps the codebase organized by separating concerns.\n",
        "\n",
        "Reusability-\tAllows different parts of an app to be reused across multiple projects.\n",
        "\n",
        "Scalability-\tHelps in maintaining and scaling large applications.\n",
        "\n",
        "Easier Maintenance-\tCode is cleaner and easier to debug.\n"
      ]
    },
    {
      "cell_type": "markdown",
      "metadata": {
        "id": "Nm9_eL65U-DM"
      },
      "source": [
        "Qn 13- What is the purpose of Flask's request object?\n",
        "\n",
        "Ans- Flask’s request object is used to access incoming request data in a Flask application. It allows developers to retrieve query parameters, form data, JSON payloads, headers, cookies, and files from HTTP requests.\n"
      ]
    },
    {
      "cell_type": "markdown",
      "metadata": {
        "id": "5gU-fhtaU-Av"
      },
      "source": [
        "Qn 14- How do you create a RESTful API endpoint using Flask?\n",
        "\n",
        "Ans-\n",
        "\n",
        "* Creating a RESTful API Endpoint Using Flask\n",
        "\n",
        "\n",
        "If Flask is not installed, install it using pip.\n",
        "\n",
        "Create a file named app.py\n",
        "\n",
        "Save the app.py file and run\n",
        "\n",
        "Use Postman, cURL, or a browser to test.\n",
        "\n",
        "Retrieve All Users (GET)\n",
        "\n",
        "Retrieve a Specific User (GET)\n",
        "\n",
        "Create a New User (POST)\n",
        "\n",
        "Update a User (PUT)\n",
        "\n",
        "Delete a User (DELETE)\n"
      ]
    },
    {
      "cell_type": "markdown",
      "metadata": {
        "id": "--Jk6APEMDyP"
      },
      "source": [
        "Qn 15- What is the purpose of Flask's jsonify() function?\n",
        "\n",
        "Ans- Flask’s jsonify() function is used to convert Python data structures (like- dictionaries, lists) into JSON format and return them as an HTTP response. It is a safer and more efficient way to return JSON data in a Flask API.\n",
        "\n"
      ]
    },
    {
      "cell_type": "markdown",
      "metadata": {
        "id": "g_nbyzHSNHbc"
      },
      "source": [
        "Qn 16- Explain Flask’s url_for() function.\n",
        "\n",
        "Ans- Flask’s url_for() function is used to generate dynamic URLs for routes in a Flask application. Instead of hardcoding URLs, url_for() helps create URLs based on the route’s function name.\n",
        "\n"
      ]
    },
    {
      "cell_type": "markdown",
      "metadata": {
        "id": "Hmr84LZ6Njl2"
      },
      "source": [
        "Qn 17- How does Flask handle static files (CSS, JavaScript, etc.)\n",
        "\n",
        "Ans- Flask automatically serves files from the /static folder using the url_for('static', filename='path') function."
      ]
    },
    {
      "cell_type": "markdown",
      "metadata": {
        "id": "Dgp21qebOFYk"
      },
      "source": [
        "Qn 18- What is an API specification, and how does it help in building a Flask API?\n",
        "\n",
        "Ans- An API specification is a detailed document that defines how an API should work. It outlines the endpoints, request methods, parameters, request/response formats, authentication requirements, and error handling."
      ]
    },
    {
      "cell_type": "markdown",
      "metadata": {
        "id": "BJhD9EOAOzc3"
      },
      "source": [
        "Qn 19- What are HTTP status codes, and why are they important in a Flask API?\n",
        "\n",
        "Ans- HTTP status codes are three-digit numbers returned by a server to indicate the outcome of an API request. They help clients (browsers, mobile apps, etc.) understand whether a request was successful, failed, or required further action."
      ]
    },
    {
      "cell_type": "markdown",
      "metadata": {
        "id": "_0xcpuvNPNGu"
      },
      "source": [
        "Qn 20- How do you handle POST requests in Flask?\n",
        "\n",
        "Ans- Flask provides the request object to access data sent in a POST request.\n",
        "\n",
        "The API listens for POST requests at /users.\n",
        "\n",
        "It reads JSON data using request.get_json().\n",
        "\n",
        "If the data is valid, it adds the user and returns a 201 Created status.\n",
        "\n"
      ]
    },
    {
      "cell_type": "markdown",
      "metadata": {
        "id": "fuNSbFQBQQ0D"
      },
      "source": [
        "Qn 21- How would you secure a Flask API?\n",
        "\n",
        "Ans-\n",
        "\n",
        "1. Ensure only authorized users can access your API.\n",
        "\n",
        "2.  Prevent SQL Injection & Cross-Site Scripting.\n",
        "\n",
        "3. Encrypt communication between client and server.\n",
        "\n",
        "4. CSRF attacks trick users into making unwanted requests.\n",
        "\n"
      ]
    },
    {
      "cell_type": "markdown",
      "metadata": {
        "id": "4lSEFMWGRWZe"
      },
      "source": [
        "Qn 22- What is the significance of the Flask-RESTful extension?\n",
        "\n",
        "Ans-  Flask-RESTful is an extension for Flask that simplifies building RESTful APIs by providing tools for request handling, input validation, and response formatting.\n",
        "\n"
      ]
    },
    {
      "cell_type": "markdown",
      "metadata": {
        "id": "DWJG2Ga-SpAV"
      },
      "source": [
        "Qn 23- What is the role of Flask’s session object?\n",
        "\n",
        "Ans- The session object in Flask is used to store user-specific data across multiple requests (similar to cookies, but more secure). It helps in maintaining user sessions for authentication, preferences, or temporary storage.\n",
        "\n"
      ]
    },
    {
      "cell_type": "markdown",
      "metadata": {
        "id": "xIgC1uI0TTWi"
      },
      "source": [
        "# PRACTICAL QUESTION"
      ]
    },
    {
      "cell_type": "markdown",
      "metadata": {
        "id": "D-SsAu8ATgZ_"
      },
      "source": [
        "Qn 1- How do you create a basic Flask application?\n"
      ]
    },
    {
      "cell_type": "code",
      "execution_count": null,
      "metadata": {
        "colab": {
          "background_save": true,
          "base_uri": "https://localhost:8080/"
        },
        "id": "OFWS96tJT6ZB",
        "outputId": "b3d75328-4269-482e-e065-262bdd4241de"
      },
      "outputs": [
        {
          "name": "stdout",
          "output_type": "stream",
          "text": [
            " * Serving Flask app '__main__'\n",
            " * Debug mode: on\n"
          ]
        },
        {
          "name": "stderr",
          "output_type": "stream",
          "text": [
            "INFO:werkzeug:\u001b[31m\u001b[1mWARNING: This is a development server. Do not use it in a production deployment. Use a production WSGI server instead.\u001b[0m\n",
            " * Running on http://127.0.0.1:5000\n",
            "INFO:werkzeug:\u001b[33mPress CTRL+C to quit\u001b[0m\n",
            "INFO:werkzeug: * Restarting with stat\n"
          ]
        }
      ],
      "source": [
        "Answer\n",
        "\n",
        "from flask import Flask\n",
        "\n",
        "app = Flask(__name__)  # Create a Flask application\n",
        "\n",
        "@app.route(\"/\")  # Define a route for the home page\n",
        "def home():\n",
        "    return \"Hello, Flask!\"\n",
        "\n",
        "if __name__ == \"__main__\":\n",
        "    app.run(debug=True)  # Run the application\n"
      ]
    },
    {
      "cell_type": "markdown",
      "metadata": {
        "id": "03F0_2A0VfUI"
      },
      "source": [
        "Qn 3- How do you define different routes with different HTTP methods in Flask?"
      ]
    },
    {
      "cell_type": "code",
      "execution_count": null,
      "metadata": {
        "id": "cPmQr0-KVq6W"
      },
      "outputs": [],
      "source": [
        "Answer\n",
        "\n",
        "\n",
        "app = Flask(__name__)\n",
        "\n",
        "@app.route(\"/\", methods=[\"GET\"])\n",
        "def home():\n",
        "    return \"Welcome to Flask!\"\n",
        "\n",
        "@app.route(\"/submit\", methods=[\"POST\"])\n",
        "def submit():\n",
        "    data = request.form.get(\"name\")\n",
        "    return f\"Received: {data}\"\n",
        "\n",
        "if __name__ == \"__main__\":\n",
        "    app.run(debug=True)\n"
      ]
    },
    {
      "cell_type": "markdown",
      "metadata": {
        "id": "WOOD1VrhV_zr"
      },
      "source": [
        "Qn 4-  How do you render HTML templates in Flask?"
      ]
    },
    {
      "cell_type": "code",
      "execution_count": null,
      "metadata": {
        "id": "3v2K_ve3W4-g"
      },
      "outputs": [],
      "source": [
        "Answer\n",
        "\n",
        "/my_flask_app\n",
        "│── app.py\n",
        "│── /templates\n",
        "│   ├── index.html\n",
        "│   ├── about.html\n"
      ]
    },
    {
      "cell_type": "markdown",
      "metadata": {
        "id": "oENJoVgbroJM"
      },
      "source": [
        "Qn 5- How can you generate URLs for routes in Flask using url_for?"
      ]
    },
    {
      "cell_type": "code",
      "execution_count": null,
      "metadata": {
        "id": "pFhn9Pc1slcF"
      },
      "outputs": [],
      "source": [
        "Answer\n",
        "\n",
        "\n",
        "app = Flask(__name__)\n",
        "\n",
        "@app.route(\"/home\")\n",
        "def home():\n",
        "    return \"Welcome to the Home Page!\"\n",
        "\n",
        "with app.test_request_context():\n",
        "    print(url_for(\"home\"))  # Output: /home\n"
      ]
    },
    {
      "cell_type": "markdown",
      "metadata": {
        "id": "yDj3dyW2twwf"
      },
      "source": [
        "Qn 6- How do you handle forms in Flask?"
      ]
    },
    {
      "cell_type": "code",
      "execution_count": null,
      "metadata": {
        "colab": {
          "base_uri": "https://localhost:8080/",
          "height": 106
        },
        "id": "rkxLlRR5u--8",
        "outputId": "c8d21176-c7bc-4fc8-f982-2a86b7de5fa3"
      },
      "outputs": [
        {
          "ename": "SyntaxError",
          "evalue": "invalid syntax (<ipython-input-1-cc45234b869c>, line 1)",
          "output_type": "error",
          "traceback": [
            "\u001b[0;36m  File \u001b[0;32m\"<ipython-input-1-cc45234b869c>\"\u001b[0;36m, line \u001b[0;32m1\u001b[0m\n\u001b[0;31m    <!DOCTYPE html>\u001b[0m\n\u001b[0m    ^\u001b[0m\n\u001b[0;31mSyntaxError\u001b[0m\u001b[0;31m:\u001b[0m invalid syntax\n"
          ]
        }
      ],
      "source": [
        "Answer\n",
        "\n",
        "<!DOCTYPE html>\n",
        "<html>\n",
        "<head>\n",
        "    <title>Flask Form</title>\n",
        "</head>\n",
        "<body>\n",
        "    <h2>Enter Your Name</h2>\n",
        "    <form action=\"/submit\" method=\"POST\">\n",
        "        <input type=\"text\" name=\"username\" placeholder=\"Your Name\" required>\n",
        "        <button type=\"submit\">Submit</button>\n",
        "    </form>\n",
        "</body>\n",
        "</html>\n"
      ]
    },
    {
      "cell_type": "markdown",
      "metadata": {
        "id": "2Ega7czTvEMj"
      },
      "source": [
        "Qn 7- How can you validate form data in Flask?"
      ]
    },
    {
      "cell_type": "code",
      "execution_count": null,
      "metadata": {
        "colab": {
          "background_save": true,
          "base_uri": "https://localhost:8080/"
        },
        "id": "4sO6uxJhw5JA",
        "outputId": "9a48bc6e-013f-4ec5-fc0e-374c016d0910"
      },
      "outputs": [
        {
          "name": "stdout",
          "output_type": "stream",
          "text": [
            " * Serving Flask app '__main__'\n",
            " * Debug mode: on\n"
          ]
        },
        {
          "name": "stderr",
          "output_type": "stream",
          "text": [
            "INFO:werkzeug:\u001b[31m\u001b[1mWARNING: This is a development server. Do not use it in a production deployment. Use a production WSGI server instead.\u001b[0m\n",
            " * Running on http://127.0.0.1:5000\n",
            "INFO:werkzeug:\u001b[33mPress CTRL+C to quit\u001b[0m\n",
            "INFO:werkzeug: * Restarting with stat\n"
          ]
        }
      ],
      "source": [
        "Answer\n",
        "\n",
        "\n",
        "\n",
        "app = Flask(__name__)\n",
        "\n",
        "@app.route(\"/\", methods=[\"GET\", \"POST\"])\n",
        "def form():\n",
        "    error = None\n",
        "    if request.method == \"POST\":\n",
        "        username = request.form.get(\"username\")\n",
        "        if not username:  # Check if input is empty\n",
        "            error = \"Username is required!\"\n",
        "        else:\n",
        "            return f\"Hello, {username}!\"\n",
        "\n",
        "    return render_template(\"form.html\", error=error)\n",
        "\n",
        "if __name__ == \"__main__\":\n",
        "    app.run(debug=True)\n"
      ]
    },
    {
      "cell_type": "markdown",
      "metadata": {
        "id": "jzHZiHanx20h"
      },
      "source": [
        "Qn 8- How do you manage sessions in Flask?"
      ]
    },
    {
      "cell_type": "code",
      "execution_count": null,
      "metadata": {
        "id": "l65f8wH0yin5"
      },
      "outputs": [],
      "source": [
        "Answer\n",
        "\n",
        " session, redirect, url_for, request\n",
        "\n",
        "app = Flask(__name__)\n",
        "app.secret_key = \"supersecretkey\"  # Required for sessions\n",
        "\n",
        "@app.route(\"/\")\n",
        "def index():\n",
        "    username = session.get(\"username\", \"Guest\")  # Retrieve session data\n",
        "    return f\"Hello, {username}!\"\n",
        "\n",
        "@app.route(\"/login\", methods=[\"POST\", \"GET\"])\n",
        "def login():\n",
        "    if request.method == \"POST\":\n",
        "        session[\"username\"] = request.form[\"username\"]  # Store data in session\n",
        "        return redirect(url_for(\"index\"))\n",
        "    return '''\n",
        "        <form method=\"post\">\n",
        "            <input type=\"text\" name=\"username\" placeholder=\"Enter your name\">\n",
        "            <button type=\"submit\">Login</button>\n",
        "        </form>\n",
        "    '''\n",
        "\n",
        "@app.route(\"/logout\")\n",
        "def logout():\n",
        "    session.pop(\"username\", None)  # Remove session data\n",
        "    return redirect(url_for(\"index\"))\n",
        "\n",
        "if __name__ == \"__main__\":\n",
        "    app.run(debug=True)\n"
      ]
    },
    {
      "cell_type": "markdown",
      "metadata": {
        "id": "UiHx8VQg0ZH5"
      },
      "source": [
        "Qn 9- How do you redirect to a different route in Flask?"
      ]
    },
    {
      "cell_type": "code",
      "execution_count": null,
      "metadata": {
        "id": "VSRW1OG30xpO"
      },
      "outputs": [],
      "source": [
        "Answer\n",
        "\n",
        "from flask import Flask, redirect, url_for\n",
        "\n",
        "app = Flask(__name__)\n",
        "\n",
        "@app.route(\"/home\")\n",
        "def home():\n",
        "    return redirect(url_for(\"dashboard\"))  # Redirects to /dashboard\n",
        "\n",
        "@app.route(\"/dashboard\")\n",
        "def dashboard():\n",
        "    return \"Welcome to the Dashboard!\"\n",
        "\n",
        "if __name__ == \"__main__\":\n",
        "    app.run(debug=True)\n"
      ]
    },
    {
      "cell_type": "markdown",
      "metadata": {
        "id": "Kkhvprie1lS7"
      },
      "source": [
        "Qn 10- How do you handle errors in Flask (e.g., 404)?"
      ]
    },
    {
      "cell_type": "code",
      "execution_count": null,
      "metadata": {
        "id": "mCwAIXEo2e9C"
      },
      "outputs": [],
      "source": [
        "Answer\n",
        "\n",
        "from flask import Flask, render_template\n",
        "\n",
        "app = Flask(__name__)\n",
        "\n",
        "@app.errorhandler(404)\n",
        "def page_not_found(error):\n",
        "    return render_template(\"404.html\"), 404  # Custom error page\n",
        "\n",
        "@app.route(\"/\")\n",
        "def home():\n",
        "    return \"Welcome to the Home Page!\"\n",
        "\n",
        "if __name__ == \"__main__\":\n",
        "    app.run(debug=True)\n"
      ]
    },
    {
      "cell_type": "markdown",
      "metadata": {
        "id": "YL5OaWDw4X54"
      },
      "source": [
        "Qn 12- How do you define a custom Jinja filter in Flask?\n"
      ]
    },
    {
      "cell_type": "code",
      "execution_count": null,
      "metadata": {
        "id": "SkVRXZK-5F6o"
      },
      "outputs": [],
      "source": [
        "Answer\n",
        "\n",
        "\n",
        "\n",
        "from flask import Flask, render_template\n",
        "\n",
        "app = Flask(__name__)\n",
        "\n",
        "# Custom Jinja filter to reverse a string\n",
        "@app.template_filter(\"reverse_string\")\n",
        "def reverse_string(s):\n",
        "    return s[::-1]\n",
        "\n",
        "@app.route(\"/\")\n",
        "def index():\n",
        "    return render_template(\"index.html\", text=\"Flask\")\n",
        "\n",
        "if __name__ == \"__main__\":\n",
        "    app.run(debug=True)\n"
      ]
    },
    {
      "cell_type": "markdown",
      "source": [
        "Qn 13- How can you redirect with query parameters in Flask?\n"
      ],
      "metadata": {
        "id": "kmZWqQCbQ1ra"
      }
    },
    {
      "cell_type": "code",
      "source": [
        "Answer\n",
        "\n",
        "from flask import Flask, redirect, url_for, request\n",
        "\n",
        "app = Flask(__name__)\n",
        "\n",
        "@app.route(\"/\")\n",
        "def home():\n",
        "    return redirect(url_for(\"welcome\", name=\"Alice\", age=25))  # Redirect with query params\n",
        "\n",
        "@app.route(\"/welcome\")\n",
        "def welcome():\n",
        "    name = request.args.get(\"name\")  # Get 'name' parameter\n",
        "    age = request.args.get(\"age\")  # Get 'age' parameter\n",
        "    return f\"Welcome {name}, Age: {age}\"\n",
        "\n",
        "if __name__ == \"__main__\":\n",
        "    app.run(debug=True)\n"
      ],
      "metadata": {
        "id": "Kka0oNJiRX-E"
      },
      "execution_count": null,
      "outputs": []
    },
    {
      "cell_type": "markdown",
      "source": [
        "Qn 14- How do you return JSON responses in Flask?"
      ],
      "metadata": {
        "id": "IINApaioSEoD"
      }
    },
    {
      "cell_type": "code",
      "source": [
        "Answer\n",
        "\n",
        "from flask import Flask, jsonify\n",
        "\n",
        "app = Flask(__name__)\n",
        "\n",
        "@app.route(\"/api/data\")\n",
        "def get_data():\n",
        "    response = {\"message\": \"Hello, Flask!\", \"status\": \"success\"}\n",
        "    return jsonify(response)  # Converts dict to JSON\n",
        "\n",
        "if __name__ == \"__main__\":\n",
        "    app.run(debug=True)\n"
      ],
      "metadata": {
        "id": "b3QM9dB-S90C"
      },
      "execution_count": null,
      "outputs": []
    }
  ],
  "metadata": {
    "colab": {
      "provenance": []
    },
    "kernelspec": {
      "display_name": "Python 3",
      "name": "python3"
    },
    "language_info": {
      "name": "python"
    }
  },
  "nbformat": 4,
  "nbformat_minor": 0
}